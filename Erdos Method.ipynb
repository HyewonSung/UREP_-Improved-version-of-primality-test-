{
 "cells": [
  {
   "cell_type": "code",
   "execution_count": 13,
   "metadata": {},
   "outputs": [
    {
     "ename": "TypeError",
     "evalue": "can only concatenate tuple (not \"int\") to tuple",
     "output_type": "error",
     "traceback": [
      "\u001b[1;31m---------------------------------------------------------------------------\u001b[0m",
      "\u001b[1;31mTypeError\u001b[0m                                 Traceback (most recent call last)",
      "\u001b[1;32m<ipython-input-13-dffe0ac422a6>\u001b[0m in \u001b[0;36m<module>\u001b[1;34m\u001b[0m\n\u001b[0;32m     83\u001b[0m \u001b[1;33m\u001b[0m\u001b[0m\n\u001b[0;32m     84\u001b[0m \u001b[0mL\u001b[0m \u001b[1;33m=\u001b[0m\u001b[1;36m53603550\u001b[0m\u001b[1;33m\u001b[0m\u001b[1;33m\u001b[0m\u001b[0m\n\u001b[1;32m---> 85\u001b[1;33m \u001b[0mfactors\u001b[0m \u001b[1;33m=\u001b[0m \u001b[0mlistbuild\u001b[0m\u001b[1;33m(\u001b[0m\u001b[0mL\u001b[0m\u001b[1;33m)\u001b[0m\u001b[1;33m\u001b[0m\u001b[1;33m\u001b[0m\u001b[0m\n\u001b[0m\u001b[0;32m     86\u001b[0m \u001b[0mprint\u001b[0m\u001b[1;33m(\u001b[0m\u001b[1;33m(\u001b[0m\u001b[0mfactors\u001b[0m\u001b[1;33m)\u001b[0m \u001b[1;33m,\u001b[0m \u001b[0mL\u001b[0m\u001b[1;33m,\u001b[0m \u001b[0mlen\u001b[0m\u001b[1;33m(\u001b[0m\u001b[0mfactors\u001b[0m\u001b[1;33m)\u001b[0m\u001b[1;33m)\u001b[0m\u001b[1;33m\u001b[0m\u001b[1;33m\u001b[0m\u001b[0m\n\u001b[0;32m     87\u001b[0m \u001b[0mprint\u001b[0m\u001b[1;33m(\u001b[0m\u001b[0merdos_build\u001b[0m\u001b[1;33m(\u001b[0m\u001b[0mfactors\u001b[0m \u001b[1;33m,\u001b[0m \u001b[0mL\u001b[0m\u001b[1;33m,\u001b[0m \u001b[1;36m8\u001b[0m\u001b[1;33m)\u001b[0m\u001b[1;33m)\u001b[0m\u001b[1;33m\u001b[0m\u001b[1;33m\u001b[0m\u001b[0m\n",
      "\u001b[1;32m<ipython-input-13-dffe0ac422a6>\u001b[0m in \u001b[0;36mlistbuild\u001b[1;34m(L)\u001b[0m\n\u001b[0;32m     50\u001b[0m         \u001b[1;31m#t = reduce(mul, pp, 1)\u001b[0m\u001b[1;33m\u001b[0m\u001b[1;33m\u001b[0m\u001b[1;33m\u001b[0m\u001b[0m\n\u001b[0;32m     51\u001b[0m         \u001b[0mt\u001b[0m\u001b[1;33m=\u001b[0m\u001b[0mpp\u001b[0m\u001b[1;33m*\u001b[0m\u001b[1;36m1\u001b[0m\u001b[1;33m\u001b[0m\u001b[1;33m\u001b[0m\u001b[0m\n\u001b[1;32m---> 52\u001b[1;33m         \u001b[0mtt\u001b[0m \u001b[1;33m=\u001b[0m \u001b[0mt\u001b[0m \u001b[1;33m+\u001b[0m \u001b[1;36m1\u001b[0m\u001b[1;33m\u001b[0m\u001b[1;33m\u001b[0m\u001b[0m\n\u001b[0m\u001b[0;32m     53\u001b[0m         \u001b[1;32mif\u001b[0m \u001b[0mtt\u001b[0m\u001b[1;33m.\u001b[0m\u001b[0mis_prime\u001b[0m\u001b[1;33m(\u001b[0m\u001b[0mproof\u001b[0m\u001b[1;33m=\u001b[0m\u001b[1;32mFalse\u001b[0m\u001b[1;33m)\u001b[0m \u001b[1;32mand\u001b[0m \u001b[0mL\u001b[0m \u001b[1;33m%\u001b[0m \u001b[0mtt\u001b[0m \u001b[1;33m!=\u001b[0m \u001b[1;36m0\u001b[0m\u001b[1;33m:\u001b[0m\u001b[1;33m\u001b[0m\u001b[1;33m\u001b[0m\u001b[0m\n\u001b[0;32m     54\u001b[0m             \u001b[1;32mif\u001b[0m \u001b[0mtt\u001b[0m \u001b[1;32mnot\u001b[0m \u001b[1;32min\u001b[0m \u001b[0mps\u001b[0m\u001b[1;33m:\u001b[0m\u001b[1;33m\u001b[0m\u001b[1;33m\u001b[0m\u001b[0m\n",
      "\u001b[1;31mTypeError\u001b[0m: can only concatenate tuple (not \"int\") to tuple"
     ]
    }
   ],
   "source": [
    "import itertools\n",
    "from operator import mul\n",
    "#from sage.arith.functions import LCM_list\n",
    "\n",
    "def factor(n):\n",
    "    i = 2\n",
    "    prime_factors=[]\n",
    "        \n",
    "    while i*i <= n:\n",
    "        count=0\n",
    "        if n % i == 0:\n",
    "            while n % i == 0:\n",
    "                n = n / i\n",
    "                count=count+1\n",
    "            prime_factors.append([i,count])\n",
    "        i = i + 1\n",
    "    return(prime_factors)\n",
    "\n",
    "\n",
    "def all_combinations(any_list): \n",
    "    \"\"\"\n",
    "    Wrapper for itertools to generate all possible combinations of all (non trivial) sizes.\n",
    "    \"\"\"\n",
    "    return itertools.chain.from_iterable(\n",
    "        itertools.combinations(any_list , i + 1) \n",
    "        for i in range(len(any_list)))\n",
    "\n",
    "def LCMpim1(n): \n",
    "    \"\"\"\n",
    "    Takes as input n: a list of integers p_i and returns the lcm(p_i-1) for all i \n",
    "    \"\"\"\n",
    "    pim1list = []\n",
    "    for pi in n:\n",
    "        pim1 = pi - 1\n",
    "        pim1list.append(pim1) \n",
    "    return LCM_list(pim1list)\n",
    "\n",
    "def listbuild(L): \n",
    "    \"\"\"\n",
    "    Takes as input a (highly composite) number L and returns a list of all primes p such that p-1 | L where p does not divide L. We include the additional requirement that p = 3 mod 4.\n",
    "    \"\"\"\n",
    "    a = factor(L)\n",
    "    p = []\n",
    "    for y in a:\n",
    "        for i in range(0, y[1]):\n",
    "            p.append(y[0])\n",
    "    pvals = all_combinations(p) \n",
    "    ps = []\n",
    "    for pp in pvals:\n",
    "        #t = reduce(mul, pp, 1)\n",
    "        t=pp*1\n",
    "        tt = t + 1\n",
    "        if tt.is_prime(proof=False) and L % tt != 0:\n",
    "            if tt not in ps: \n",
    "                ps.append(tt)\n",
    "    pps = []\n",
    "    ps.sort()\n",
    "    # we now filter results to only inlude p with p = 3 mod 4 \n",
    "    for p in ps:\n",
    "        if p % 4 == 3: \n",
    "            pps.append(p)\n",
    "    return pps\n",
    "\n",
    "def erdos_build(factors , L, k):\n",
    "    \"\"\"\n",
    "    This function takes a list of possible factors, a (highly composite) integer L \n",
    "    and k, and produces a Carmichael number with k factors sampled from \"factors\" \n",
    "    such that the LCM of each factor p_i - 1 is equal to L. Output is parsed as \n",
    "    n,[p_1,p_2,...,p_k] where n = p_1 * p_2 * ... * p_k.\n",
    "    \"\"\"\n",
    "    if k <=2:\n",
    "        print(\"Choice of factors must be >=3\")\n",
    "        return 0\n",
    "    for i in itertools.combinations(factors , k):\n",
    "        v = reduce(mul, i, 1) \n",
    "        if v % L == 1:\n",
    "            fin = list(i) \n",
    "            fin.sort()\n",
    "            if LCMpim1(fin) == L:\n",
    "                return [v,fin]\n",
    "    print(\"None found, try increasing size of factor list\")\n",
    "    \n",
    "    \n",
    "L =53603550\n",
    "factors = listbuild(L)\n",
    "print((factors) , L, len(factors))\n",
    "print(erdos_build(factors , L, 8))\n",
    "print(erdos_build(factors , L, 16))\n",
    "\n",
    " "
   ]
  },
  {
   "cell_type": "code",
   "execution_count": 10,
   "metadata": {},
   "outputs": [
    {
     "name": "stdout",
     "output_type": "stream",
     "text": [
      "[[2, 3], [3, 2]]\n"
     ]
    }
   ],
   "source": [
    "def factor(n):\n",
    "    i = 2\n",
    "    prime_factors=[]\n",
    "        \n",
    "    while i*i <= n:\n",
    "        count=0\n",
    "        if n % i == 0:\n",
    "            while n % i == 0:\n",
    "                n = n / i\n",
    "                count=count+1\n",
    "            prime_factors.append([i,count])\n",
    "        i = i + 1\n",
    "    return(prime_factors)\n",
    "\n",
    "print(factor(72))"
   ]
  },
  {
   "cell_type": "code",
   "execution_count": null,
   "metadata": {},
   "outputs": [],
   "source": []
  }
 ],
 "metadata": {
  "kernelspec": {
   "display_name": "Python 3",
   "language": "python",
   "name": "python3"
  },
  "language_info": {
   "codemirror_mode": {
    "name": "ipython",
    "version": 3
   },
   "file_extension": ".py",
   "mimetype": "text/x-python",
   "name": "python",
   "nbconvert_exporter": "python",
   "pygments_lexer": "ipython3",
   "version": "3.7.6"
  }
 },
 "nbformat": 4,
 "nbformat_minor": 4
}
