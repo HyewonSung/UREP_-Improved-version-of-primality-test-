{
 "cells": [
  {
   "cell_type": "code",
   "execution_count": 1,
   "metadata": {},
   "outputs": [],
   "source": [
    "import sys\n",
    "import math\n",
    "import random\n",
    "\n",
    "DEFAULT_COUNT=1000\n",
    "DEFAULT_OFFSET=0"
   ]
  },
  {
   "cell_type": "code",
   "execution_count": 2,
   "metadata": {},
   "outputs": [],
   "source": [
    "class _cmdline_params_struct:\n",
    "    # 초기자(initializer)\n",
    "    def __init__(self, count, offset):\n",
    "        # self.* : 인스턴스변수\n",
    "        self.count = count\n",
    "        self.offset = offset"
   ]
  },
  {
   "cell_type": "code",
   "execution_count": 3,
   "metadata": {},
   "outputs": [],
   "source": [
    "def print_help_and_exit():\n",
    "    print(\"-c log2 of number of trials(default:\", DEFAULT_COUNT, \")\\n\")\n",
    "    print(\"-o offset on starting k value, where offset*c(default: \", DEFAULT_OFFSET ,\")\\n\")\n",
    "    sys.exit()"
   ]
  },
  {
   "cell_type": "code",
   "execution_count": 4,
   "metadata": {},
   "outputs": [],
   "source": [
    "def powmod(x,e,m): # x^e mod m 구하는 함수\n",
    "    X = x\n",
    "    E = e\n",
    "    Y = 1\n",
    "    while E > 0:\n",
    "        if E % 2 == 0:\n",
    "            X = (X * X) % m\n",
    "            E = E/2\n",
    "        else:\n",
    "            Y = (X * Y) % m\n",
    "            E = E - 1\n",
    "    return Y\n",
    "\n",
    "def miillerTest(d, n): \n",
    "    a = 2 + random.randint(1, n - 4) # a 는 [2..n-2] 안의 랜덤 정수  \n",
    "    x = powmod(a, d ,n) # x = a^d % n \n",
    "    \n",
    "    if (x == 1 or x == n - 1): \n",
    "        return True\n",
    "  \n",
    "    while (d != n - 1): \n",
    "        x = (x * x) % n\n",
    "        d *= 2\n",
    "        if (x == 1): \n",
    "            return False\n",
    "        if (x == n - 1): \n",
    "            return True\n",
    "    return False\n",
    "\n",
    "def mpz_probab_prime_p(n, reps):\n",
    "     # Corner cases \n",
    "    if (n <= 1 or n == 4): \n",
    "        return False\n",
    "    if (n <= 3): \n",
    "        return True\n",
    "    \n",
    "    d = n - 1\n",
    "    while (d % 2 == 0): \n",
    "        d //= 2\n",
    "  \n",
    "    for i in range(reps): # reps만큼 Miller Rabin test 돌리기\n",
    "        if (miillerTest(d, n) == False): \n",
    "            return False\n",
    "  \n",
    "    return True"
   ]
  },
  {
   "cell_type": "code",
   "execution_count": 5,
   "metadata": {},
   "outputs": [],
   "source": [
    "# main\n",
    "count=0\n",
    "params=_cmdline_params_struct(DEFAULT_COUNT,DEFAULT_OFFSET)\n",
    "\n",
    "q = 0\n",
    "q1 = 0\n",
    "q2 = 0\n",
    "q3 = 0\n",
    "\n",
    "k= 0\n",
    "m = 0\n",
    "off = 0\n",
    "N = 0\n",
    "#int res\n",
    "\n",
    "# params=cmdline_params_t(DEFAULT_COUNT,DEFAULT_OFFSET);\n",
    "# parse_cmdline(params, argc, argv);\n",
    "\n",
    "# here we set up our specific starting Carmichael number p and other parameters\n",
    "s = 3\n",
    "kprime = 1\n",
    "fudge2 = 1\n",
    "fudge3 = 1\n",
    "fudge4 = 1\n",
    "fudge5 = 1"
   ]
  },
  {
   "cell_type": "code",
   "execution_count": 7,
   "metadata": {},
   "outputs": [
    {
     "name": "stdout",
     "output_type": "stream",
     "text": [
      "finish\n"
     ]
    }
   ],
   "source": [
    "import re\n",
    "import string\n",
    "\n",
    "r = open('C:/Users/hello/Desktop/학교/유렙/얼도스리스트.txt', mode='rt', encoding='utf-8')\n",
    "while True:\n",
    "    line = r.readline()\n",
    "    if not line: \n",
    "        break\n",
    "        \n",
    "    for i in line:\n",
    "        if i in string.punctuation:\n",
    "            line=line.replace(i,\" \")\n",
    "    line_split=line.split()\n",
    "    \n",
    "    p1 = int(line_split[1])  ###\n",
    "    p2 = int(line_split[2])  ###\n",
    "    p3 = int(line_split[3])  ###\n",
    "\n",
    "\n",
    "    L = int(line_split[0])  ###\n",
    "    Lbits = int(math.log2(L))+1  ###\n",
    "\n",
    "    off = params.offset\n",
    "    off = off * pow(2,params.offset) #off = off * (2 ^ params->offset)\n",
    "    p1bits = int(math.log2(p1)) + 1  #p1bits = (int)log2(p1) + 1 #//p1을 2진수로 나타내려면 몇비트 필요한 지?\n",
    "    sbits = int(math.log2(s)) + 1    #sbits = (int)log2(s) + 1\n",
    "\n",
    "    # we now make some speicific alterations to ensure the final N is 1024 bits \n",
    "    t = 9\n",
    "    fudgefactor = 1\n",
    "    power = 113 - (t / 2 - 1) - p1bits - Lbits - sbits + fudgefactor\n",
    "\n",
    "    kprime = kprime * pow(2, power)\n",
    "    fudge2 = fudge2 * pow(2 , (power - 1))\n",
    "    fudge3 = fudge3 * pow(2 , (power - 4))\n",
    "    fudge4 = fudge4 * pow(2 , (power - 5))\n",
    "    fudge5 = fudge5 * pow(2 , (power - 6))\n",
    "\n",
    "    kprime = kprime - fudge2 - fudge3 - fudge4\n",
    "\n",
    "    if (params.offset != 0) :\n",
    "        kprime = kprime + off\n",
    "\n",
    "    #// The following for loop accounts for the bulk of the time to run \n",
    "    for i in range(params.count):\n",
    "        kprime = kprime + 1\n",
    "        k = kprime * s\n",
    "        m = k * L\n",
    "        m = m + 1\n",
    "\n",
    "        #q1\n",
    "        q1 = m * p1\n",
    "        q1 = q1 + 1\n",
    "        res = mpz_probab_prime_p(q1, 2)\n",
    "        if (not res):\n",
    "            continue\n",
    "\n",
    "        #q2\n",
    "        q2 = m * p2\n",
    "        q2 = q2 + 1\n",
    "        res = mpz_probab_prime_p(q2, 2)\n",
    "        if (not res):\n",
    "            continue\n",
    "\n",
    "        #q3\n",
    "        q3 = m * p3\n",
    "        q3 = q3 + 1\n",
    "        res = mpz_probab_prime_p(q3, 2)\n",
    "        if (not res):\n",
    "            continue\n",
    "\n",
    "\n",
    "        q = q1 * q2 * q3\n",
    "        N = q * 2\n",
    "        N = N + 1\n",
    "        res = mpz_probab_prime_p(N, 2)\n",
    "        if (not res):\n",
    "            continue\n",
    "\n",
    "        print(\"PRIME!\")\n",
    "        print(\"q = \",q ,\", q1 = \",q1 ,\", q2 = \",q2 ,\", q3 = \",q3 )\n",
    "        count=count+1\n",
    "    \n",
    "    if count!=0:\n",
    "        print(\"--> \",line_split,\"\\n\\n\")\n",
    "\n",
    "print(\"finish\")\n",
    "r.close()"
   ]
  },
  {
   "cell_type": "code",
   "execution_count": null,
   "metadata": {},
   "outputs": [],
   "source": []
  },
  {
   "cell_type": "code",
   "execution_count": 32,
   "metadata": {},
   "outputs": [
    {
     "data": {
      "text/plain": [
       "13.245319809215173"
      ]
     },
     "execution_count": 32,
     "metadata": {},
     "output_type": "execute_result"
    }
   ],
   "source": [
    "import math\n",
    "math.log10(pow(2,44))"
   ]
  },
  {
   "cell_type": "code",
   "execution_count": null,
   "metadata": {},
   "outputs": [],
   "source": []
  }
 ],
 "metadata": {
  "kernelspec": {
   "display_name": "Python 3",
   "language": "python",
   "name": "python3"
  },
  "language_info": {
   "codemirror_mode": {
    "name": "ipython",
    "version": 3
   },
   "file_extension": ".py",
   "mimetype": "text/x-python",
   "name": "python",
   "nbconvert_exporter": "python",
   "pygments_lexer": "ipython3",
   "version": "3.7.6"
  }
 },
 "nbformat": 4,
 "nbformat_minor": 4
}
